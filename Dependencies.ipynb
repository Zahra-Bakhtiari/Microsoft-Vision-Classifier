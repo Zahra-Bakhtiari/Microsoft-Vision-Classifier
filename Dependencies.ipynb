{
 "cells": [
  {
   "cell_type": "code",
   "execution_count": 1,
   "metadata": {
    "scrolled": true
   },
   "outputs": [
    {
     "name": "stdout",
     "output_type": "stream",
     "text": [
      "Collecting package metadata (current_repodata.json): done\n",
      "Solving environment: done\n",
      "\n",
      "\n",
      "==> WARNING: A newer version of conda exists. <==\n",
      "  current version: 4.8.3\n",
      "  latest version: 4.10.1\n",
      "\n",
      "Please update conda by running\n",
      "\n",
      "    $ conda update -n base conda\n",
      "\n",
      "\n",
      "\n",
      "# All requested packages already installed.\n",
      "\n",
      "\n",
      "Note: you may need to restart the kernel to use updated packages.\n"
     ]
    }
   ],
   "source": [
    " conda install progressbar2\n"
   ]
  },
  {
   "cell_type": "code",
   "execution_count": 2,
   "metadata": {},
   "outputs": [
    {
     "name": "stdout",
     "output_type": "stream",
     "text": [
      "Requirement already satisfied: Keras in /home/ubuntu/anaconda3/lib/python3.7/site-packages (2.4.3)\n",
      "Collecting scipy>=0.14\n",
      "  Downloading scipy-1.6.3-cp37-cp37m-manylinux1_x86_64.whl (27.4 MB)\n",
      "\u001b[K     |████████████████████████████████| 27.4 MB 7.4 MB/s eta 0:00:01     |█████████████████████████▉      | 22.1 MB 7.4 MB/s eta 0:00:01\n",
      "\u001b[?25hRequirement already satisfied: numpy>=1.9.1 in /home/ubuntu/anaconda3/lib/python3.7/site-packages (from Keras) (1.19.5)\n",
      "Requirement already satisfied: h5py in /home/ubuntu/anaconda3/lib/python3.7/site-packages (from Keras) (3.1.0)\n",
      "Requirement already satisfied: pyyaml in /home/ubuntu/anaconda3/lib/python3.7/site-packages (from Keras) (5.3)\n",
      "Requirement already satisfied: cached-property; python_version < \"3.8\" in /home/ubuntu/anaconda3/lib/python3.7/site-packages (from h5py->Keras) (1.5.2)\n",
      "Installing collected packages: scipy\n",
      "Successfully installed scipy-1.6.3\n",
      "Note: you may need to restart the kernel to use updated packages.\n"
     ]
    }
   ],
   "source": [
    "pip install Keras"
   ]
  },
  {
   "cell_type": "code",
   "execution_count": 17,
   "metadata": {},
   "outputs": [
    {
     "ename": "SyntaxError",
     "evalue": "invalid syntax (<ipython-input-17-80757a7cb393>, line 6)",
     "output_type": "error",
     "traceback": [
      "\u001b[0;36m  File \u001b[0;32m\"<ipython-input-17-80757a7cb393>\"\u001b[0;36m, line \u001b[0;32m6\u001b[0m\n\u001b[0;31m    conda create -n tensorflow python=3.7\u001b[0m\n\u001b[0m               ^\u001b[0m\n\u001b[0;31mSyntaxError\u001b[0m\u001b[0;31m:\u001b[0m invalid syntax\n"
     ]
    }
   ],
   "source": [
    "#pip install tensorflow\n",
    "#pip install --upgrade tensorflow-gpu\n",
    "\n",
    "#pip install --upgrade tensorflow-gpu==1.8.0\n",
    "#pip install --upgrade https://storage.googleapis.com/tensorflow/mac/cpu/tensorflow-1.12.0-py3-none-any.whl\n",
    "conda create -n tensorflow python=3.7"
   ]
  },
  {
   "cell_type": "code",
   "execution_count": 1,
   "metadata": {},
   "outputs": [
    {
     "name": "stdout",
     "output_type": "stream",
     "text": [
      "Requirement already satisfied: seaborn in /home/ubuntu/anaconda3/envs/mxnet_latest_p37/lib/python3.7/site-packages (0.10.0)\n",
      "Requirement already satisfied: matplotlib>=2.1.2 in /home/ubuntu/anaconda3/envs/mxnet_latest_p37/lib/python3.7/site-packages (from seaborn) (3.1.3)\n",
      "Requirement already satisfied: scipy>=1.0.1 in /home/ubuntu/anaconda3/envs/mxnet_latest_p37/lib/python3.7/site-packages (from seaborn) (1.4.1)\n",
      "Requirement already satisfied: pandas>=0.22.0 in /home/ubuntu/anaconda3/envs/mxnet_latest_p37/lib/python3.7/site-packages (from seaborn) (1.0.1)\n",
      "Requirement already satisfied: numpy>=1.13.3 in /home/ubuntu/anaconda3/envs/mxnet_latest_p37/lib/python3.7/site-packages (from seaborn) (1.18.1)\n",
      "Requirement already satisfied: cycler>=0.10 in /home/ubuntu/anaconda3/envs/mxnet_latest_p37/lib/python3.7/site-packages (from matplotlib>=2.1.2->seaborn) (0.10.0)\n",
      "Requirement already satisfied: pyparsing!=2.0.4,!=2.1.2,!=2.1.6,>=2.0.1 in /home/ubuntu/anaconda3/envs/mxnet_latest_p37/lib/python3.7/site-packages (from matplotlib>=2.1.2->seaborn) (2.4.6)\n",
      "Requirement already satisfied: python-dateutil>=2.1 in /home/ubuntu/anaconda3/envs/mxnet_latest_p37/lib/python3.7/site-packages (from matplotlib>=2.1.2->seaborn) (2.8.1)\n",
      "Requirement already satisfied: kiwisolver>=1.0.1 in /home/ubuntu/anaconda3/envs/mxnet_latest_p37/lib/python3.7/site-packages (from matplotlib>=2.1.2->seaborn) (1.1.0)\n",
      "Requirement already satisfied: pytz>=2017.2 in /home/ubuntu/anaconda3/envs/mxnet_latest_p37/lib/python3.7/site-packages (from pandas>=0.22.0->seaborn) (2019.3)\n",
      "Requirement already satisfied: six in /home/ubuntu/anaconda3/envs/mxnet_latest_p37/lib/python3.7/site-packages (from cycler>=0.10->matplotlib>=2.1.2->seaborn) (1.14.0)\n",
      "Requirement already satisfied: setuptools in /home/ubuntu/anaconda3/envs/mxnet_latest_p37/lib/python3.7/site-packages (from kiwisolver>=1.0.1->matplotlib>=2.1.2->seaborn) (45.2.0.post20200210)\n",
      "Note: you may need to restart the kernel to use updated packages.\n"
     ]
    }
   ],
   "source": [
    "pip install seaborn"
   ]
  },
  {
   "cell_type": "code",
   "execution_count": 8,
   "metadata": {},
   "outputs": [
    {
     "name": "stdout",
     "output_type": "stream",
     "text": [
      "Requirement already satisfied: opencv-python in /home/ubuntu/anaconda3/envs/python3/lib/python3.6/site-packages (4.2.0.32)\n",
      "Requirement already satisfied: numpy>=1.11.3 in /home/ubuntu/anaconda3/envs/python3/lib/python3.6/site-packages (from opencv-python) (1.19.5)\n",
      "Note: you may need to restart the kernel to use updated packages.\n"
     ]
    }
   ],
   "source": [
    "pip install opencv-python"
   ]
  },
  {
   "cell_type": "code",
   "execution_count": 9,
   "metadata": {
    "scrolled": true
   },
   "outputs": [
    {
     "name": "stdout",
     "output_type": "stream",
     "text": [
      "Requirement already satisfied: microsoftvision in /home/ubuntu/anaconda3/envs/python3/lib/python3.6/site-packages (1.0.5)\n",
      "Requirement already satisfied: tqdm in /home/ubuntu/anaconda3/envs/python3/lib/python3.6/site-packages (from microsoftvision) (4.42.1)\n",
      "Requirement already satisfied: torch>=1.2.0 in /home/ubuntu/anaconda3/envs/python3/lib/python3.6/site-packages (from microsoftvision) (1.7.1)\n",
      "Requirement already satisfied: azure-identity in /home/ubuntu/anaconda3/envs/python3/lib/python3.6/site-packages (from microsoftvision) (1.6.0)\n",
      "Requirement already satisfied: azure-storage-blob in /home/ubuntu/anaconda3/envs/python3/lib/python3.6/site-packages (from microsoftvision) (12.8.1)\n",
      "Requirement already satisfied: typing_extensions in /home/ubuntu/anaconda3/envs/python3/lib/python3.6/site-packages (from torch>=1.2.0->microsoftvision) (3.7.4.3)\n",
      "Requirement already satisfied: numpy in /home/ubuntu/anaconda3/envs/python3/lib/python3.6/site-packages (from torch>=1.2.0->microsoftvision) (1.19.5)\n",
      "Requirement already satisfied: dataclasses in /home/ubuntu/anaconda3/envs/python3/lib/python3.6/site-packages (from torch>=1.2.0->microsoftvision) (0.8)\n",
      "Requirement already satisfied: azure-core<2.0.0,>=1.0.0 in /home/ubuntu/anaconda3/envs/python3/lib/python3.6/site-packages (from azure-identity->microsoftvision) (1.14.0)\n",
      "Requirement already satisfied: six>=1.12.0 in /home/ubuntu/anaconda3/envs/python3/lib/python3.6/site-packages (from azure-identity->microsoftvision) (1.15.0)\n",
      "Requirement already satisfied: cryptography>=2.1.4 in /home/ubuntu/anaconda3/envs/python3/lib/python3.6/site-packages (from azure-identity->microsoftvision) (2.8)\n",
      "Requirement already satisfied: msal-extensions~=0.3.0 in /home/ubuntu/anaconda3/envs/python3/lib/python3.6/site-packages (from azure-identity->microsoftvision) (0.3.0)\n",
      "Requirement already satisfied: msal<2.0.0,>=1.7.0 in /home/ubuntu/anaconda3/envs/python3/lib/python3.6/site-packages (from azure-identity->microsoftvision) (1.12.0)\n",
      "Requirement already satisfied: msrest>=0.6.18 in /home/ubuntu/anaconda3/envs/python3/lib/python3.6/site-packages (from azure-storage-blob->microsoftvision) (0.6.21)\n",
      "Requirement already satisfied: requests>=2.18.4 in /home/ubuntu/anaconda3/envs/python3/lib/python3.6/site-packages (from azure-core<2.0.0,>=1.0.0->azure-identity->microsoftvision) (2.22.0)\n",
      "Requirement already satisfied: cffi!=1.11.3,>=1.8 in /home/ubuntu/anaconda3/envs/python3/lib/python3.6/site-packages (from cryptography>=2.1.4->azure-identity->microsoftvision) (1.14.0)\n",
      "Requirement already satisfied: portalocker~=1.0; platform_system != \"Windows\" in /home/ubuntu/anaconda3/envs/python3/lib/python3.6/site-packages (from msal-extensions~=0.3.0->azure-identity->microsoftvision) (1.7.1)\n",
      "Requirement already satisfied: PyJWT[crypto]<3,>=1.0.0 in /home/ubuntu/anaconda3/envs/python3/lib/python3.6/site-packages (from msal<2.0.0,>=1.7.0->azure-identity->microsoftvision) (2.1.0)\n",
      "Requirement already satisfied: isodate>=0.6.0 in /home/ubuntu/anaconda3/envs/python3/lib/python3.6/site-packages (from msrest>=0.6.18->azure-storage-blob->microsoftvision) (0.6.0)\n",
      "Requirement already satisfied: certifi>=2017.4.17 in /home/ubuntu/anaconda3/envs/python3/lib/python3.6/site-packages (from msrest>=0.6.18->azure-storage-blob->microsoftvision) (2021.5.30)\n",
      "Requirement already satisfied: requests-oauthlib>=0.5.0 in /home/ubuntu/anaconda3/envs/python3/lib/python3.6/site-packages (from msrest>=0.6.18->azure-storage-blob->microsoftvision) (1.3.0)\n",
      "Requirement already satisfied: idna<2.9,>=2.5 in /home/ubuntu/anaconda3/envs/python3/lib/python3.6/site-packages (from requests>=2.18.4->azure-core<2.0.0,>=1.0.0->azure-identity->microsoftvision) (2.8)\n",
      "Requirement already satisfied: chardet<3.1.0,>=3.0.2 in /home/ubuntu/anaconda3/envs/python3/lib/python3.6/site-packages (from requests>=2.18.4->azure-core<2.0.0,>=1.0.0->azure-identity->microsoftvision) (3.0.4)\n",
      "Requirement already satisfied: urllib3!=1.25.0,!=1.25.1,<1.26,>=1.21.1 in /home/ubuntu/anaconda3/envs/python3/lib/python3.6/site-packages (from requests>=2.18.4->azure-core<2.0.0,>=1.0.0->azure-identity->microsoftvision) (1.25.11)\n",
      "Requirement already satisfied: pycparser in /home/ubuntu/anaconda3/envs/python3/lib/python3.6/site-packages (from cffi!=1.11.3,>=1.8->cryptography>=2.1.4->azure-identity->microsoftvision) (2.19)\n",
      "Requirement already satisfied: oauthlib>=3.0.0 in /home/ubuntu/anaconda3/envs/python3/lib/python3.6/site-packages (from requests-oauthlib>=0.5.0->msrest>=0.6.18->azure-storage-blob->microsoftvision) (3.1.0)\n",
      "Note: you may need to restart the kernel to use updated packages.\n"
     ]
    }
   ],
   "source": [
    "pip install microsoftvision"
   ]
  }
 ],
 "metadata": {
  "kernelspec": {
   "display_name": "Python [conda env:mxnet_latest_p37]",
   "language": "python",
   "name": "conda-env-mxnet_latest_p37-py"
  },
  "language_info": {
   "codemirror_mode": {
    "name": "ipython",
    "version": 3
   },
   "file_extension": ".py",
   "mimetype": "text/x-python",
   "name": "python",
   "nbconvert_exporter": "python",
   "pygments_lexer": "ipython3",
   "version": "3.7.6"
  }
 },
 "nbformat": 4,
 "nbformat_minor": 4
}
