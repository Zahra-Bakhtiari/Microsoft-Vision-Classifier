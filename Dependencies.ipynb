{
 "cells": [
  {
   "cell_type": "code",
   "execution_count": 1,
   "metadata": {},
   "outputs": [
    {
     "name": "stdout",
     "output_type": "stream",
     "text": [
      "Collecting package metadata (current_repodata.json): done\n",
      "Solving environment: done\n",
      "\n",
      "\n",
      "==> WARNING: A newer version of conda exists. <==\n",
      "  current version: 4.8.3\n",
      "  latest version: 4.10.1\n",
      "\n",
      "Please update conda by running\n",
      "\n",
      "    $ conda update -n base conda\n",
      "\n",
      "\n",
      "\n",
      "## Package Plan ##\n",
      "\n",
      "  environment location: /home/ubuntu/anaconda3\n",
      "\n",
      "  added / updated specs:\n",
      "    - progressbar2\n",
      "\n",
      "\n",
      "The following packages will be downloaded:\n",
      "\n",
      "    package                    |            build\n",
      "    ---------------------------|-----------------\n",
      "    openssl-1.1.1k             |       h27cfd23_0         2.5 MB\n",
      "    progressbar2-3.53.1        |     pyh9f0ad1d_0          25 KB  conda-forge\n",
      "    python-utils-2.5.6         |     pyh44b312d_0          15 KB  conda-forge\n",
      "    ------------------------------------------------------------\n",
      "                                           Total:         2.6 MB\n",
      "\n",
      "The following NEW packages will be INSTALLED:\n",
      "\n",
      "  progressbar2       conda-forge/noarch::progressbar2-3.53.1-pyh9f0ad1d_0\n",
      "  python-utils       conda-forge/noarch::python-utils-2.5.6-pyh44b312d_0\n",
      "\n",
      "The following packages will be UPDATED:\n",
      "\n",
      "  ca-certificates    conda-forge/label/cf202003::ca-certif~ --> conda-forge::ca-certificates-2021.5.30-ha878542_0\n",
      "  certifi            conda-forge/label/cf202003::certifi-2~ --> conda-forge::certifi-2021.5.30-py37h89c1867_0\n",
      "  openssl            conda-forge/label/cf202003::openssl-1~ --> pkgs/main::openssl-1.1.1k-h27cfd23_0\n",
      "\n",
      "\n",
      "\n",
      "Downloading and Extracting Packages\n",
      "openssl-1.1.1k       | 2.5 MB    | ##################################### | 100% \n",
      "python-utils-2.5.6   | 15 KB     | ##################################### | 100% \n",
      "progressbar2-3.53.1  | 25 KB     | ##################################### | 100% \n",
      "Preparing transaction: done\n",
      "Verifying transaction: done\n",
      "Executing transaction: done\n",
      "\n",
      "Note: you may need to restart the kernel to use updated packages.\n"
     ]
    }
   ],
   "source": [
    " conda install progressbar2\n"
   ]
  },
  {
   "cell_type": "code",
   "execution_count": 2,
   "metadata": {
    "scrolled": true
   },
   "outputs": [
    {
     "name": "stdout",
     "output_type": "stream",
     "text": [
      "Requirement already satisfied: microsoftvision in /home/ubuntu/anaconda3/lib/python3.7/site-packages (1.0.5)\n",
      "Requirement already satisfied: tqdm in /home/ubuntu/anaconda3/lib/python3.7/site-packages (from microsoftvision) (4.42.1)\n",
      "Requirement already satisfied: azure-identity in /home/ubuntu/anaconda3/lib/python3.7/site-packages (from microsoftvision) (1.6.0)\n",
      "Requirement already satisfied: azure-storage-blob in /home/ubuntu/anaconda3/lib/python3.7/site-packages (from microsoftvision) (12.8.1)\n",
      "Requirement already satisfied: torch>=1.2.0 in /home/ubuntu/anaconda3/lib/python3.7/site-packages (from microsoftvision) (1.8.1)\n",
      "Requirement already satisfied: six>=1.12.0 in /home/ubuntu/anaconda3/lib/python3.7/site-packages (from azure-identity->microsoftvision) (1.14.0)\n",
      "Requirement already satisfied: azure-core<2.0.0,>=1.0.0 in /home/ubuntu/anaconda3/lib/python3.7/site-packages (from azure-identity->microsoftvision) (1.14.0)\n",
      "Requirement already satisfied: msal<2.0.0,>=1.7.0 in /home/ubuntu/anaconda3/lib/python3.7/site-packages (from azure-identity->microsoftvision) (1.12.0)\n",
      "Requirement already satisfied: cryptography>=2.1.4 in /home/ubuntu/anaconda3/lib/python3.7/site-packages (from azure-identity->microsoftvision) (2.8)\n",
      "Requirement already satisfied: msal-extensions~=0.3.0 in /home/ubuntu/anaconda3/lib/python3.7/site-packages (from azure-identity->microsoftvision) (0.3.0)\n",
      "Requirement already satisfied: msrest>=0.6.18 in /home/ubuntu/anaconda3/lib/python3.7/site-packages (from azure-storage-blob->microsoftvision) (0.6.21)\n",
      "Requirement already satisfied: typing-extensions in /home/ubuntu/anaconda3/lib/python3.7/site-packages (from torch>=1.2.0->microsoftvision) (3.10.0.0)\n",
      "Requirement already satisfied: numpy in /home/ubuntu/anaconda3/lib/python3.7/site-packages (from torch>=1.2.0->microsoftvision) (1.18.1)\n",
      "Requirement already satisfied: requests>=2.18.4 in /home/ubuntu/anaconda3/lib/python3.7/site-packages (from azure-core<2.0.0,>=1.0.0->azure-identity->microsoftvision) (2.22.0)\n",
      "Requirement already satisfied: PyJWT[crypto]<3,>=1.0.0 in /home/ubuntu/anaconda3/lib/python3.7/site-packages (from msal<2.0.0,>=1.7.0->azure-identity->microsoftvision) (2.1.0)\n",
      "Requirement already satisfied: cffi!=1.11.3,>=1.8 in /home/ubuntu/anaconda3/lib/python3.7/site-packages (from cryptography>=2.1.4->azure-identity->microsoftvision) (1.14.0)\n",
      "Requirement already satisfied: portalocker~=1.0; platform_system != \"Windows\" in /home/ubuntu/anaconda3/lib/python3.7/site-packages (from msal-extensions~=0.3.0->azure-identity->microsoftvision) (1.7.1)\n",
      "Requirement already satisfied: certifi>=2017.4.17 in /home/ubuntu/anaconda3/lib/python3.7/site-packages (from msrest>=0.6.18->azure-storage-blob->microsoftvision) (2021.5.30)\n",
      "Requirement already satisfied: requests-oauthlib>=0.5.0 in /home/ubuntu/anaconda3/lib/python3.7/site-packages (from msrest>=0.6.18->azure-storage-blob->microsoftvision) (1.3.0)\n",
      "Requirement already satisfied: isodate>=0.6.0 in /home/ubuntu/anaconda3/lib/python3.7/site-packages (from msrest>=0.6.18->azure-storage-blob->microsoftvision) (0.6.0)\n",
      "Requirement already satisfied: chardet<3.1.0,>=3.0.2 in /home/ubuntu/anaconda3/lib/python3.7/site-packages (from requests>=2.18.4->azure-core<2.0.0,>=1.0.0->azure-identity->microsoftvision) (3.0.4)\n",
      "Requirement already satisfied: idna<2.9,>=2.5 in /home/ubuntu/anaconda3/lib/python3.7/site-packages (from requests>=2.18.4->azure-core<2.0.0,>=1.0.0->azure-identity->microsoftvision) (2.8)\n",
      "Requirement already satisfied: urllib3!=1.25.0,!=1.25.1,<1.26,>=1.21.1 in /home/ubuntu/anaconda3/lib/python3.7/site-packages (from requests>=2.18.4->azure-core<2.0.0,>=1.0.0->azure-identity->microsoftvision) (1.25.8)\n",
      "Requirement already satisfied: pycparser in /home/ubuntu/anaconda3/lib/python3.7/site-packages (from cffi!=1.11.3,>=1.8->cryptography>=2.1.4->azure-identity->microsoftvision) (2.19)\n",
      "Requirement already satisfied: oauthlib>=3.0.0 in /home/ubuntu/anaconda3/lib/python3.7/site-packages (from requests-oauthlib>=0.5.0->msrest>=0.6.18->azure-storage-blob->microsoftvision) (3.1.0)\n",
      "Note: you may need to restart the kernel to use updated packages.\n"
     ]
    }
   ],
   "source": [
    "pip install microsoftvision"
   ]
  }
 ],
 "metadata": {
  "kernelspec": {
   "display_name": "Python 3",
   "language": "python",
   "name": "python3"
  },
  "language_info": {
   "codemirror_mode": {
    "name": "ipython",
    "version": 3
   },
   "file_extension": ".py",
   "mimetype": "text/x-python",
   "name": "python",
   "nbconvert_exporter": "python",
   "pygments_lexer": "ipython3",
   "version": "3.7.6"
  }
 },
 "nbformat": 4,
 "nbformat_minor": 4
}
